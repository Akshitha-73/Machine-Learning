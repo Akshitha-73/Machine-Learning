{
 "cells": [
  {
   "cell_type": "code",
   "execution_count": 1,
   "id": "802401dc",
   "metadata": {
    "_cell_guid": "b1076dfc-b9ad-4769-8c92-a6c4dae69d19",
    "_uuid": "8f2839f25d086af736a60e9eeb907d3b93b6e0e5",
    "execution": {
     "iopub.execute_input": "2024-10-18T08:38:41.544855Z",
     "iopub.status.busy": "2024-10-18T08:38:41.544401Z",
     "iopub.status.idle": "2024-10-18T08:38:42.504108Z",
     "shell.execute_reply": "2024-10-18T08:38:42.502491Z"
    },
    "papermill": {
     "duration": 0.975422,
     "end_time": "2024-10-18T08:38:42.506848",
     "exception": false,
     "start_time": "2024-10-18T08:38:41.531426",
     "status": "completed"
    },
    "tags": []
   },
   "outputs": [
    {
     "name": "stdout",
     "output_type": "stream",
     "text": [
      "/kaggle/input/breakfast-food-sales-and-customer-engagement-data/restaurant_data.csv\n"
     ]
    }
   ],
   "source": [
    "# This Python 3 environment comes with many helpful analytics libraries installed\n",
    "# It is defined by the kaggle/python Docker image: https://github.com/kaggle/docker-python\n",
    "# For example, here's several helpful packages to load\n",
    "\n",
    "import numpy as np # linear algebra\n",
    "import pandas as pd # data processing, CSV file I/O (e.g. pd.read_csv)\n",
    "\n",
    "# Input data files are available in the read-only \"../input/\" directory\n",
    "# For example, running this (by clicking run or pressing Shift+Enter) will list all files under the input directory\n",
    "\n",
    "import os\n",
    "for dirname, _, filenames in os.walk('/kaggle/input'):\n",
    "    for filename in filenames:\n",
    "        print(os.path.join(dirname, filename))\n",
    "\n",
    "# You can write up to 20GB to the current directory (/kaggle/working/) that gets preserved as output when you create a version using \"Save & Run All\" \n",
    "# You can also write temporary files to /kaggle/temp/, but they won't be saved outside of the current session"
   ]
  },
  {
   "cell_type": "code",
   "execution_count": 2,
   "id": "a7526fef",
   "metadata": {
    "execution": {
     "iopub.execute_input": "2024-10-18T08:38:42.531318Z",
     "iopub.status.busy": "2024-10-18T08:38:42.529831Z",
     "iopub.status.idle": "2024-10-18T08:38:42.548224Z",
     "shell.execute_reply": "2024-10-18T08:38:42.547114Z"
    },
    "papermill": {
     "duration": 0.033415,
     "end_time": "2024-10-18T08:38:42.551203",
     "exception": false,
     "start_time": "2024-10-18T08:38:42.517788",
     "status": "completed"
    },
    "tags": []
   },
   "outputs": [],
   "source": [
    "data=pd.read_csv(\"/kaggle/input/breakfast-food-sales-and-customer-engagement-data/restaurant_data.csv\")"
   ]
  },
  {
   "cell_type": "code",
   "execution_count": 3,
   "id": "e29fc3b6",
   "metadata": {
    "execution": {
     "iopub.execute_input": "2024-10-18T08:38:42.575911Z",
     "iopub.status.busy": "2024-10-18T08:38:42.575460Z",
     "iopub.status.idle": "2024-10-18T08:38:42.609249Z",
     "shell.execute_reply": "2024-10-18T08:38:42.607917Z"
    },
    "papermill": {
     "duration": 0.048954,
     "end_time": "2024-10-18T08:38:42.612139",
     "exception": false,
     "start_time": "2024-10-18T08:38:42.563185",
     "status": "completed"
    },
    "tags": []
   },
   "outputs": [
    {
     "name": "stdout",
     "output_type": "stream",
     "text": [
      "<class 'pandas.core.frame.DataFrame'>\n",
      "RangeIndex: 649 entries, 0 to 648\n",
      "Data columns (total 7 columns):\n",
      " #   Column           Non-Null Count  Dtype \n",
      "---  ------           --------------  ----- \n",
      " 0   Date             649 non-null    object\n",
      " 1   Dish Name        649 non-null    object\n",
      " 2   Price            649 non-null    int64 \n",
      " 3   Dine In          649 non-null    int64 \n",
      " 4   Parcel           649 non-null    int64 \n",
      " 5   Total Customers  649 non-null    int64 \n",
      " 6   Total Sales      649 non-null    int64 \n",
      "dtypes: int64(5), object(2)\n",
      "memory usage: 35.6+ KB\n"
     ]
    }
   ],
   "source": [
    "data.info()"
   ]
  },
  {
   "cell_type": "code",
   "execution_count": 4,
   "id": "1b543b6d",
   "metadata": {
    "execution": {
     "iopub.execute_input": "2024-10-18T08:38:42.635809Z",
     "iopub.status.busy": "2024-10-18T08:38:42.635366Z",
     "iopub.status.idle": "2024-10-18T08:38:42.671853Z",
     "shell.execute_reply": "2024-10-18T08:38:42.670757Z"
    },
    "papermill": {
     "duration": 0.0516,
     "end_time": "2024-10-18T08:38:42.674435",
     "exception": false,
     "start_time": "2024-10-18T08:38:42.622835",
     "status": "completed"
    },
    "tags": []
   },
   "outputs": [
    {
     "data": {
      "text/html": [
       "<div>\n",
       "<style scoped>\n",
       "    .dataframe tbody tr th:only-of-type {\n",
       "        vertical-align: middle;\n",
       "    }\n",
       "\n",
       "    .dataframe tbody tr th {\n",
       "        vertical-align: top;\n",
       "    }\n",
       "\n",
       "    .dataframe thead th {\n",
       "        text-align: right;\n",
       "    }\n",
       "</style>\n",
       "<table border=\"1\" class=\"dataframe\">\n",
       "  <thead>\n",
       "    <tr style=\"text-align: right;\">\n",
       "      <th></th>\n",
       "      <th>Price</th>\n",
       "      <th>Dine In</th>\n",
       "      <th>Parcel</th>\n",
       "      <th>Total Customers</th>\n",
       "      <th>Total Sales</th>\n",
       "    </tr>\n",
       "  </thead>\n",
       "  <tbody>\n",
       "    <tr>\n",
       "      <th>count</th>\n",
       "      <td>649.000000</td>\n",
       "      <td>649.000000</td>\n",
       "      <td>649.000000</td>\n",
       "      <td>649.000000</td>\n",
       "      <td>649.000000</td>\n",
       "    </tr>\n",
       "    <tr>\n",
       "      <th>mean</th>\n",
       "      <td>20.363636</td>\n",
       "      <td>27.915254</td>\n",
       "      <td>8.365177</td>\n",
       "      <td>36.280431</td>\n",
       "      <td>757.796610</td>\n",
       "    </tr>\n",
       "    <tr>\n",
       "      <th>std</th>\n",
       "      <td>5.452684</td>\n",
       "      <td>15.290517</td>\n",
       "      <td>9.223766</td>\n",
       "      <td>15.075272</td>\n",
       "      <td>417.017092</td>\n",
       "    </tr>\n",
       "    <tr>\n",
       "      <th>min</th>\n",
       "      <td>12.000000</td>\n",
       "      <td>7.000000</td>\n",
       "      <td>0.000000</td>\n",
       "      <td>7.000000</td>\n",
       "      <td>84.000000</td>\n",
       "    </tr>\n",
       "    <tr>\n",
       "      <th>25%</th>\n",
       "      <td>20.000000</td>\n",
       "      <td>17.000000</td>\n",
       "      <td>0.000000</td>\n",
       "      <td>25.000000</td>\n",
       "      <td>440.000000</td>\n",
       "    </tr>\n",
       "    <tr>\n",
       "      <th>50%</th>\n",
       "      <td>20.000000</td>\n",
       "      <td>25.000000</td>\n",
       "      <td>6.000000</td>\n",
       "      <td>34.000000</td>\n",
       "      <td>680.000000</td>\n",
       "    </tr>\n",
       "    <tr>\n",
       "      <th>75%</th>\n",
       "      <td>20.000000</td>\n",
       "      <td>33.000000</td>\n",
       "      <td>14.000000</td>\n",
       "      <td>46.000000</td>\n",
       "      <td>980.000000</td>\n",
       "    </tr>\n",
       "    <tr>\n",
       "      <th>max</th>\n",
       "      <td>30.000000</td>\n",
       "      <td>75.000000</td>\n",
       "      <td>30.000000</td>\n",
       "      <td>80.000000</td>\n",
       "      <td>2250.000000</td>\n",
       "    </tr>\n",
       "  </tbody>\n",
       "</table>\n",
       "</div>"
      ],
      "text/plain": [
       "            Price     Dine In      Parcel  Total Customers  Total Sales\n",
       "count  649.000000  649.000000  649.000000       649.000000   649.000000\n",
       "mean    20.363636   27.915254    8.365177        36.280431   757.796610\n",
       "std      5.452684   15.290517    9.223766        15.075272   417.017092\n",
       "min     12.000000    7.000000    0.000000         7.000000    84.000000\n",
       "25%     20.000000   17.000000    0.000000        25.000000   440.000000\n",
       "50%     20.000000   25.000000    6.000000        34.000000   680.000000\n",
       "75%     20.000000   33.000000   14.000000        46.000000   980.000000\n",
       "max     30.000000   75.000000   30.000000        80.000000  2250.000000"
      ]
     },
     "execution_count": 4,
     "metadata": {},
     "output_type": "execute_result"
    }
   ],
   "source": [
    "data.describe()"
   ]
  },
  {
   "cell_type": "code",
   "execution_count": 5,
   "id": "4abc4417",
   "metadata": {
    "execution": {
     "iopub.execute_input": "2024-10-18T08:38:42.699945Z",
     "iopub.status.busy": "2024-10-18T08:38:42.699118Z",
     "iopub.status.idle": "2024-10-18T08:38:44.594024Z",
     "shell.execute_reply": "2024-10-18T08:38:44.592655Z"
    },
    "papermill": {
     "duration": 1.910682,
     "end_time": "2024-10-18T08:38:44.597061",
     "exception": false,
     "start_time": "2024-10-18T08:38:42.686379",
     "status": "completed"
    },
    "tags": []
   },
   "outputs": [],
   "source": [
    "import matplotlib.pyplot as plt\n",
    "import seaborn as sns\n",
    "import warnings\n",
    "warnings.filterwarnings('ignore')\n"
   ]
  },
  {
   "cell_type": "code",
   "execution_count": 6,
   "id": "2d315914",
   "metadata": {
    "execution": {
     "iopub.execute_input": "2024-10-18T08:38:44.621548Z",
     "iopub.status.busy": "2024-10-18T08:38:44.620944Z",
     "iopub.status.idle": "2024-10-18T08:38:45.111530Z",
     "shell.execute_reply": "2024-10-18T08:38:45.109728Z"
    },
    "papermill": {
     "duration": 0.505158,
     "end_time": "2024-10-18T08:38:45.113680",
     "exception": true,
     "start_time": "2024-10-18T08:38:44.608522",
     "status": "failed"
    },
    "tags": []
   },
   "outputs": [
    {
     "ename": "NameError",
     "evalue": "name 'data1' is not defined",
     "output_type": "error",
     "traceback": [
      "\u001b[0;31m---------------------------------------------------------------------------\u001b[0m",
      "\u001b[0;31mNameError\u001b[0m                                 Traceback (most recent call last)",
      "Cell \u001b[0;32mIn[6], line 1\u001b[0m\n\u001b[0;32m----> 1\u001b[0m \u001b[43mdata1\u001b[49m\n",
      "\u001b[0;31mNameError\u001b[0m: name 'data1' is not defined"
     ]
    }
   ],
   "source": [
    "data1"
   ]
  },
  {
   "cell_type": "code",
   "execution_count": null,
   "id": "9403fbb4",
   "metadata": {
    "execution": {
     "iopub.execute_input": "2024-10-18T08:25:03.722297Z",
     "iopub.status.busy": "2024-10-18T08:25:03.721878Z",
     "iopub.status.idle": "2024-10-18T08:25:03.730965Z",
     "shell.execute_reply": "2024-10-18T08:25:03.729844Z",
     "shell.execute_reply.started": "2024-10-18T08:25:03.722257Z"
    },
    "papermill": {
     "duration": null,
     "end_time": null,
     "exception": null,
     "start_time": null,
     "status": "pending"
    },
    "tags": []
   },
   "outputs": [],
   "source": [
    "data1=pd.to_datetime(data['Date'])\n",
    "data['month']=data1.dt.month"
   ]
  },
  {
   "cell_type": "code",
   "execution_count": null,
   "id": "6c7fe7cf",
   "metadata": {
    "execution": {
     "iopub.execute_input": "2024-10-18T08:25:06.005548Z",
     "iopub.status.busy": "2024-10-18T08:25:06.005116Z",
     "iopub.status.idle": "2024-10-18T08:25:06.019441Z",
     "shell.execute_reply": "2024-10-18T08:25:06.018494Z",
     "shell.execute_reply.started": "2024-10-18T08:25:06.005508Z"
    },
    "papermill": {
     "duration": null,
     "end_time": null,
     "exception": null,
     "start_time": null,
     "status": "pending"
    },
    "tags": []
   },
   "outputs": [],
   "source": [
    "data"
   ]
  },
  {
   "cell_type": "code",
   "execution_count": null,
   "id": "0e7dde36",
   "metadata": {
    "execution": {
     "iopub.execute_input": "2024-10-18T06:36:14.382788Z",
     "iopub.status.busy": "2024-10-18T06:36:14.382369Z",
     "iopub.status.idle": "2024-10-18T06:36:14.396875Z",
     "shell.execute_reply": "2024-10-18T06:36:14.395709Z",
     "shell.execute_reply.started": "2024-10-18T06:36:14.382750Z"
    },
    "papermill": {
     "duration": null,
     "end_time": null,
     "exception": null,
     "start_time": null,
     "status": "pending"
    },
    "tags": []
   },
   "outputs": [],
   "source": [
    "data.tail()"
   ]
  },
  {
   "cell_type": "code",
   "execution_count": null,
   "id": "a9d655e0",
   "metadata": {
    "execution": {
     "iopub.execute_input": "2024-10-18T08:25:10.302026Z",
     "iopub.status.busy": "2024-10-18T08:25:10.301032Z",
     "iopub.status.idle": "2024-10-18T08:25:10.310245Z",
     "shell.execute_reply": "2024-10-18T08:25:10.308868Z",
     "shell.execute_reply.started": "2024-10-18T08:25:10.301981Z"
    },
    "papermill": {
     "duration": null,
     "end_time": null,
     "exception": null,
     "start_time": null,
     "status": "pending"
    },
    "tags": []
   },
   "outputs": [],
   "source": [
    "dish_sales=data.groupby('Dish Name',as_index=False)[['Total Sales']].sum().sort_values(by='Total Sales',ascending=False)"
   ]
  },
  {
   "cell_type": "code",
   "execution_count": null,
   "id": "891331ae",
   "metadata": {
    "execution": {
     "iopub.execute_input": "2024-10-18T08:25:12.014361Z",
     "iopub.status.busy": "2024-10-18T08:25:12.013578Z",
     "iopub.status.idle": "2024-10-18T08:25:12.023835Z",
     "shell.execute_reply": "2024-10-18T08:25:12.022661Z",
     "shell.execute_reply.started": "2024-10-18T08:25:12.014317Z"
    },
    "papermill": {
     "duration": null,
     "end_time": null,
     "exception": null,
     "start_time": null,
     "status": "pending"
    },
    "tags": []
   },
   "outputs": [],
   "source": [
    "dish_sales"
   ]
  },
  {
   "cell_type": "code",
   "execution_count": null,
   "id": "7a4a9398",
   "metadata": {
    "execution": {
     "iopub.execute_input": "2024-10-18T08:25:13.802689Z",
     "iopub.status.busy": "2024-10-18T08:25:13.802270Z",
     "iopub.status.idle": "2024-10-18T08:25:13.944587Z",
     "shell.execute_reply": "2024-10-18T08:25:13.943516Z",
     "shell.execute_reply.started": "2024-10-18T08:25:13.802652Z"
    },
    "papermill": {
     "duration": null,
     "end_time": null,
     "exception": null,
     "start_time": null,
     "status": "pending"
    },
    "tags": []
   },
   "outputs": [],
   "source": [
    "plt.pie(x=dish_sales['Total Sales'], labels=dish_sales['Dish Name'],autopct='%1.1f%%')\n"
   ]
  },
  {
   "cell_type": "code",
   "execution_count": null,
   "id": "9db4ab52",
   "metadata": {
    "execution": {
     "iopub.execute_input": "2024-10-18T08:25:16.425441Z",
     "iopub.status.busy": "2024-10-18T08:25:16.425036Z",
     "iopub.status.idle": "2024-10-18T08:25:16.442310Z",
     "shell.execute_reply": "2024-10-18T08:25:16.440984Z",
     "shell.execute_reply.started": "2024-10-18T08:25:16.425403Z"
    },
    "papermill": {
     "duration": null,
     "end_time": null,
     "exception": null,
     "start_time": null,
     "status": "pending"
    },
    "tags": []
   },
   "outputs": [],
   "source": [
    "data['day']=data1.dt.day\n",
    "data"
   ]
  },
  {
   "cell_type": "code",
   "execution_count": null,
   "id": "4aa1187f",
   "metadata": {
    "execution": {
     "iopub.execute_input": "2024-10-18T08:25:18.598107Z",
     "iopub.status.busy": "2024-10-18T08:25:18.597695Z",
     "iopub.status.idle": "2024-10-18T08:25:19.004513Z",
     "shell.execute_reply": "2024-10-18T08:25:19.003515Z",
     "shell.execute_reply.started": "2024-10-18T08:25:18.598069Z"
    },
    "papermill": {
     "duration": null,
     "end_time": null,
     "exception": null,
     "start_time": null,
     "status": "pending"
    },
    "tags": []
   },
   "outputs": [],
   "source": [
    "plt.figure(figsize=(20,10))\n",
    "sns.lineplot(x='day',y='Total Sales',data=data,ci=None)\n"
   ]
  },
  {
   "cell_type": "code",
   "execution_count": null,
   "id": "1b90d526",
   "metadata": {
    "execution": {
     "iopub.execute_input": "2024-10-18T08:25:21.187848Z",
     "iopub.status.busy": "2024-10-18T08:25:21.187413Z",
     "iopub.status.idle": "2024-10-18T08:25:21.440949Z",
     "shell.execute_reply": "2024-10-18T08:25:21.439825Z",
     "shell.execute_reply.started": "2024-10-18T08:25:21.187803Z"
    },
    "papermill": {
     "duration": null,
     "end_time": null,
     "exception": null,
     "start_time": null,
     "status": "pending"
    },
    "tags": []
   },
   "outputs": [],
   "source": [
    "sns.lineplot(x='day',y='Total Customers',data=data,ci=None)"
   ]
  },
  {
   "cell_type": "code",
   "execution_count": null,
   "id": "c8036c3b",
   "metadata": {
    "execution": {
     "iopub.execute_input": "2024-10-18T08:25:23.131387Z",
     "iopub.status.busy": "2024-10-18T08:25:23.131011Z",
     "iopub.status.idle": "2024-10-18T08:25:23.146148Z",
     "shell.execute_reply": "2024-10-18T08:25:23.144905Z",
     "shell.execute_reply.started": "2024-10-18T08:25:23.131353Z"
    },
    "papermill": {
     "duration": null,
     "end_time": null,
     "exception": null,
     "start_time": null,
     "status": "pending"
    },
    "tags": []
   },
   "outputs": [],
   "source": [
    "data"
   ]
  },
  {
   "cell_type": "code",
   "execution_count": null,
   "id": "9318b883",
   "metadata": {
    "execution": {
     "iopub.execute_input": "2024-10-18T08:25:25.477901Z",
     "iopub.status.busy": "2024-10-18T08:25:25.477503Z",
     "iopub.status.idle": "2024-10-18T08:25:25.851976Z",
     "shell.execute_reply": "2024-10-18T08:25:25.850867Z",
     "shell.execute_reply.started": "2024-10-18T08:25:25.477867Z"
    },
    "papermill": {
     "duration": null,
     "end_time": null,
     "exception": null,
     "start_time": null,
     "status": "pending"
    },
    "tags": []
   },
   "outputs": [],
   "source": [
    "df_corr = data[['Price', 'Dine In', 'Parcel', 'Total Customers',\n",
    "       'Total Sales']].corr()\n",
    "sns.heatmap(df_corr,square=True,annot=True)"
   ]
  },
  {
   "cell_type": "code",
   "execution_count": null,
   "id": "c51d5c60",
   "metadata": {
    "papermill": {
     "duration": null,
     "end_time": null,
     "exception": null,
     "start_time": null,
     "status": "pending"
    },
    "tags": []
   },
   "outputs": [],
   "source": [
    "parcel_sales=pd.merge(\n",
    "data.groupby('Dish Name',as_index=False)[['Dine In']].sum().sort_values(by='Dish Name',ascending=False),\n",
    "data.groupby('Dish Name',as_index=False)[['Parcel']].sum().sort_values(by='Dish Name',ascending=False))"
   ]
  },
  {
   "cell_type": "code",
   "execution_count": null,
   "id": "3441ef3e",
   "metadata": {
    "execution": {
     "iopub.execute_input": "2024-10-18T08:25:32.022232Z",
     "iopub.status.busy": "2024-10-18T08:25:32.021829Z",
     "iopub.status.idle": "2024-10-18T08:25:32.319890Z",
     "shell.execute_reply": "2024-10-18T08:25:32.318717Z",
     "shell.execute_reply.started": "2024-10-18T08:25:32.022191Z"
    },
    "papermill": {
     "duration": null,
     "end_time": null,
     "exception": null,
     "start_time": null,
     "status": "pending"
    },
    "tags": []
   },
   "outputs": [],
   "source": [
    "plt.figure(figsize=(10, 6))\n",
    "plt.bar(parcel_sales['Dish Name'], parcel_sales['Dine In'], label='Dine In', alpha=0.7,)\n",
    "plt.bar(parcel_sales['Dish Name'], parcel_sales['Parcel'], label='Parcel', alpha=0.7, bottom=parcel_sales['Dine In'])\n",
    "plt.xlabel('Dish Name')\n",
    "plt.ylabel('Total Sales')\n",
    "plt.title('Sales by Dish Type')\n",
    "plt.legend()\n",
    "plt.xticks(rotation=45)\n",
    "plt.show()"
   ]
  },
  {
   "cell_type": "code",
   "execution_count": null,
   "id": "8ecf0d93",
   "metadata": {
    "execution": {
     "iopub.execute_input": "2024-10-18T08:25:34.656166Z",
     "iopub.status.busy": "2024-10-18T08:25:34.655217Z",
     "iopub.status.idle": "2024-10-18T08:25:35.869447Z",
     "shell.execute_reply": "2024-10-18T08:25:35.868276Z",
     "shell.execute_reply.started": "2024-10-18T08:25:34.656123Z"
    },
    "papermill": {
     "duration": null,
     "end_time": null,
     "exception": null,
     "start_time": null,
     "status": "pending"
    },
    "tags": []
   },
   "outputs": [],
   "source": [
    "plt.figure(figsize=(10,6))\n",
    "plt.bar(data['Dish Name'],data['Price'],color='green')"
   ]
  },
  {
   "cell_type": "code",
   "execution_count": null,
   "id": "25abab73",
   "metadata": {
    "execution": {
     "iopub.execute_input": "2024-10-18T08:25:39.962841Z",
     "iopub.status.busy": "2024-10-18T08:25:39.962423Z",
     "iopub.status.idle": "2024-10-18T08:25:39.967812Z",
     "shell.execute_reply": "2024-10-18T08:25:39.966513Z",
     "shell.execute_reply.started": "2024-10-18T08:25:39.962806Z"
    },
    "papermill": {
     "duration": null,
     "end_time": null,
     "exception": null,
     "start_time": null,
     "status": "pending"
    },
    "tags": []
   },
   "outputs": [],
   "source": [
    " from sklearn.preprocessing import LabelEncoder\n",
    "    "
   ]
  },
  {
   "cell_type": "code",
   "execution_count": null,
   "id": "43e1df78",
   "metadata": {
    "execution": {
     "iopub.execute_input": "2024-10-18T08:25:41.605356Z",
     "iopub.status.busy": "2024-10-18T08:25:41.604257Z",
     "iopub.status.idle": "2024-10-18T08:25:41.611218Z",
     "shell.execute_reply": "2024-10-18T08:25:41.609997Z",
     "shell.execute_reply.started": "2024-10-18T08:25:41.605308Z"
    },
    "papermill": {
     "duration": null,
     "end_time": null,
     "exception": null,
     "start_time": null,
     "status": "pending"
    },
    "tags": []
   },
   "outputs": [],
   "source": [
    "le=LabelEncoder()\n",
    "data['Dish Name']=le.fit_transform(data['Dish Name'])"
   ]
  },
  {
   "cell_type": "code",
   "execution_count": null,
   "id": "1f9ee5d3",
   "metadata": {
    "execution": {
     "iopub.execute_input": "2024-10-18T08:25:43.836814Z",
     "iopub.status.busy": "2024-10-18T08:25:43.836296Z",
     "iopub.status.idle": "2024-10-18T08:25:43.851035Z",
     "shell.execute_reply": "2024-10-18T08:25:43.849968Z",
     "shell.execute_reply.started": "2024-10-18T08:25:43.836765Z"
    },
    "papermill": {
     "duration": null,
     "end_time": null,
     "exception": null,
     "start_time": null,
     "status": "pending"
    },
    "tags": []
   },
   "outputs": [],
   "source": [
    "data"
   ]
  },
  {
   "cell_type": "code",
   "execution_count": null,
   "id": "0c2d5e9a",
   "metadata": {
    "execution": {
     "iopub.execute_input": "2024-10-18T08:25:57.778429Z",
     "iopub.status.busy": "2024-10-18T08:25:57.777686Z",
     "iopub.status.idle": "2024-10-18T08:25:57.782982Z",
     "shell.execute_reply": "2024-10-18T08:25:57.781958Z",
     "shell.execute_reply.started": "2024-10-18T08:25:57.778387Z"
    },
    "papermill": {
     "duration": null,
     "end_time": null,
     "exception": null,
     "start_time": null,
     "status": "pending"
    },
    "tags": []
   },
   "outputs": [],
   "source": [
    "from sklearn.model_selection import train_test_split\n",
    "from sklearn.linear_model import LinearRegression\n",
    "from sklearn.metrics import mean_absolute_error, mean_squared_error,r2_score"
   ]
  },
  {
   "cell_type": "code",
   "execution_count": null,
   "id": "f152c971",
   "metadata": {
    "execution": {
     "iopub.execute_input": "2024-10-18T08:25:50.672680Z",
     "iopub.status.busy": "2024-10-18T08:25:50.672258Z",
     "iopub.status.idle": "2024-10-18T08:25:50.678052Z",
     "shell.execute_reply": "2024-10-18T08:25:50.677026Z",
     "shell.execute_reply.started": "2024-10-18T08:25:50.672642Z"
    },
    "papermill": {
     "duration": null,
     "end_time": null,
     "exception": null,
     "start_time": null,
     "status": "pending"
    },
    "tags": []
   },
   "outputs": [],
   "source": [
    "data=data.drop(['Date'],axis=1)\n"
   ]
  },
  {
   "cell_type": "code",
   "execution_count": null,
   "id": "1f1a2e44",
   "metadata": {
    "execution": {
     "iopub.execute_input": "2024-10-18T08:25:53.154275Z",
     "iopub.status.busy": "2024-10-18T08:25:53.153365Z",
     "iopub.status.idle": "2024-10-18T08:25:53.167415Z",
     "shell.execute_reply": "2024-10-18T08:25:53.166090Z",
     "shell.execute_reply.started": "2024-10-18T08:25:53.154224Z"
    },
    "papermill": {
     "duration": null,
     "end_time": null,
     "exception": null,
     "start_time": null,
     "status": "pending"
    },
    "tags": []
   },
   "outputs": [],
   "source": [
    "data"
   ]
  },
  {
   "cell_type": "code",
   "execution_count": null,
   "id": "8977db11",
   "metadata": {
    "execution": {
     "iopub.execute_input": "2024-10-18T08:26:18.082806Z",
     "iopub.status.busy": "2024-10-18T08:26:18.082361Z",
     "iopub.status.idle": "2024-10-18T08:26:18.091423Z",
     "shell.execute_reply": "2024-10-18T08:26:18.090469Z",
     "shell.execute_reply.started": "2024-10-18T08:26:18.082769Z"
    },
    "papermill": {
     "duration": null,
     "end_time": null,
     "exception": null,
     "start_time": null,
     "status": "pending"
    },
    "tags": []
   },
   "outputs": [],
   "source": [
    "X = data.drop(['Total Sales'], axis = 1)\n",
    "Y = data['Total Sales']\n",
    "X_train, X_test, y_train, y_test = train_test_split(X, Y, test_size=0.15, random_state=13)"
   ]
  },
  {
   "cell_type": "code",
   "execution_count": null,
   "id": "07002f19",
   "metadata": {
    "execution": {
     "iopub.execute_input": "2024-10-18T08:27:17.853074Z",
     "iopub.status.busy": "2024-10-18T08:27:17.852582Z",
     "iopub.status.idle": "2024-10-18T08:27:17.889369Z",
     "shell.execute_reply": "2024-10-18T08:27:17.888330Z",
     "shell.execute_reply.started": "2024-10-18T08:27:17.853030Z"
    },
    "papermill": {
     "duration": null,
     "end_time": null,
     "exception": null,
     "start_time": null,
     "status": "pending"
    },
    "tags": []
   },
   "outputs": [],
   "source": [
    "model=LinearRegression()\n",
    "model.fit(X_train,y_train)"
   ]
  },
  {
   "cell_type": "code",
   "execution_count": null,
   "id": "fa9fce6b",
   "metadata": {
    "execution": {
     "iopub.execute_input": "2024-10-18T08:27:46.913476Z",
     "iopub.status.busy": "2024-10-18T08:27:46.912368Z",
     "iopub.status.idle": "2024-10-18T08:27:46.919603Z",
     "shell.execute_reply": "2024-10-18T08:27:46.918403Z",
     "shell.execute_reply.started": "2024-10-18T08:27:46.913395Z"
    },
    "papermill": {
     "duration": null,
     "end_time": null,
     "exception": null,
     "start_time": null,
     "status": "pending"
    },
    "tags": []
   },
   "outputs": [],
   "source": [
    "y_pred=model.predict(X_test)"
   ]
  },
  {
   "cell_type": "code",
   "execution_count": null,
   "id": "882dffeb",
   "metadata": {
    "execution": {
     "iopub.execute_input": "2024-10-18T08:29:36.559956Z",
     "iopub.status.busy": "2024-10-18T08:29:36.559549Z",
     "iopub.status.idle": "2024-10-18T08:29:36.568747Z",
     "shell.execute_reply": "2024-10-18T08:29:36.567314Z",
     "shell.execute_reply.started": "2024-10-18T08:29:36.559918Z"
    },
    "papermill": {
     "duration": null,
     "end_time": null,
     "exception": null,
     "start_time": null,
     "status": "pending"
    },
    "tags": []
   },
   "outputs": [],
   "source": [
    "mae = mean_absolute_error(y_test, y_pred)\n",
    "mse = mean_squared_error(y_test, y_pred)\n",
    "rmse = np.sqrt(mse)\n",
    "r2 = r2_score(y_test, y_pred)\n",
    "print(f\"Mean Absolute Error (MAE): {mae:.2f}\")\n",
    "print(f\"Mean Squared Error (MSE): {mse:.2f}\")\n",
    "print(f\"Root Mean Squared Error (RMSE): {rmse:.2f}\")\n",
    "print(f'r2_score:{r2:.2f}')"
   ]
  },
  {
   "cell_type": "code",
   "execution_count": null,
   "id": "f491b164",
   "metadata": {
    "execution": {
     "iopub.execute_input": "2024-10-18T08:37:39.900906Z",
     "iopub.status.busy": "2024-10-18T08:37:39.900477Z",
     "iopub.status.idle": "2024-10-18T08:37:40.254245Z",
     "shell.execute_reply": "2024-10-18T08:37:40.253091Z",
     "shell.execute_reply.started": "2024-10-18T08:37:39.900869Z"
    },
    "papermill": {
     "duration": null,
     "end_time": null,
     "exception": null,
     "start_time": null,
     "status": "pending"
    },
    "tags": []
   },
   "outputs": [],
   "source": [
    "plt.figure(figsize=(16,6))\n",
    "\n",
    "sns.scatterplot(x=y_test, y=y_pred, color='b', alpha=0.9, edgecolor='k', s=80)\n",
    "sns.regplot(x=y_test, y=y_pred, scatter=False, color='r', line_kws={\"color\": \"red\", \"lw\": 2})\n",
    "plt.xlabel(\"Actual Values\", fontsize=14)\n",
    "plt.ylabel(\"Predicted Values\", fontsize=14)\n",
    "plt.show()"
   ]
  },
  {
   "cell_type": "code",
   "execution_count": null,
   "id": "1156afc9",
   "metadata": {
    "papermill": {
     "duration": null,
     "end_time": null,
     "exception": null,
     "start_time": null,
     "status": "pending"
    },
    "tags": []
   },
   "outputs": [],
   "source": []
  }
 ],
 "metadata": {
  "kaggle": {
   "accelerator": "none",
   "dataSources": [
    {
     "datasetId": 4077926,
     "sourceId": 7079325,
     "sourceType": "datasetVersion"
    }
   ],
   "dockerImageVersionId": 30786,
   "isGpuEnabled": false,
   "isInternetEnabled": false,
   "language": "python",
   "sourceType": "notebook"
  },
  "kernelspec": {
   "display_name": "Python 3",
   "language": "python",
   "name": "python3"
  },
  "language_info": {
   "codemirror_mode": {
    "name": "ipython",
    "version": 3
   },
   "file_extension": ".py",
   "mimetype": "text/x-python",
   "name": "python",
   "nbconvert_exporter": "python",
   "pygments_lexer": "ipython3",
   "version": "3.10.14"
  },
  "papermill": {
   "default_parameters": {},
   "duration": 7.566628,
   "end_time": "2024-10-18T08:38:45.848254",
   "environment_variables": {},
   "exception": true,
   "input_path": "__notebook__.ipynb",
   "output_path": "__notebook__.ipynb",
   "parameters": {},
   "start_time": "2024-10-18T08:38:38.281626",
   "version": "2.6.0"
  }
 },
 "nbformat": 4,
 "nbformat_minor": 5
}
